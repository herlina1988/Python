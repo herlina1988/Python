{
 "cells": [
  {
   "cell_type": "markdown",
   "metadata": {},
   "source": [
    "# Memulai Turtle"
   ]
  },
  {
   "cell_type": "code",
   "execution_count": 31,
   "metadata": {},
   "outputs": [],
   "source": [
    "import turtle                                          # adalah mengimport modul turtle\n",
    "sc = turtle.Screen()                                   # memberikan nama \"sc\" untuk screen /layar\n",
    "sc.title(\"Menggambar bentuk sederhana dengan Python\")  # nama screen"
   ]
  },
  {
   "cell_type": "markdown",
   "metadata": {},
   "source": [
    "# Menggambar bentuk sederhana"
   ]
  },
  {
   "cell_type": "code",
   "execution_count": 35,
   "metadata": {},
   "outputs": [],
   "source": [
    "kura = turtle.Turtle()       # saya namai turtlenya \"kura\"\n",
    "kura.clear()\n",
    "kura.shape(\"turtle\")\n",
    "kura.position()              # kita cek posisi kura, secara default ada di koordinat (0,0)\n",
    "kura.color(\"blue\",\"green\")   # kita bisa mengatur warna kura\n",
    "kura.circle(80)              # kita buat lingkaran dengan radius/jari2 80 pixel"
   ]
  },
  {
   "cell_type": "code",
   "execution_count": 33,
   "metadata": {},
   "outputs": [
    {
     "data": {
      "text/plain": [
       "(-23.00,10.00)"
      ]
     },
     "execution_count": 33,
     "metadata": {},
     "output_type": "execute_result"
    }
   ],
   "source": [
    "kura.reset()\n",
    "kura.setpos(-23.0,10.0)       # kita bisa atur posisi awal kura tidak pada titik (0,0)\n",
    "kura.position()               # kita cek posisi kura sekarang di koordinat (-23.0,10.0) "
   ]
  },
  {
   "cell_type": "code",
   "execution_count": 34,
   "metadata": {},
   "outputs": [],
   "source": [
    "kura.shape()                  # bentuk kura default/standar\n",
    "kura.shape(\"turtle\")          # kita ubah bentuk kura menjadi turtle\n",
    "kura.hideturtle()             # menyembunyikan kura/pena"
   ]
  },
  {
   "cell_type": "code",
   "execution_count": null,
   "metadata": {},
   "outputs": [],
   "source": []
  },
  {
   "cell_type": "code",
   "execution_count": 18,
   "metadata": {},
   "outputs": [],
   "source": [
    "# kura.reset()\n",
    "# kura.begin_fill()\n",
    "kura.fd(100)\n",
    "kura.lt(90)\n",
    "kura.fd(100)\n",
    "kura.lt(90)\n",
    "kura.fd(100)\n",
    "kura.penup()       # mengangkat pena\n",
    "kura.lt(90)\n",
    "kura.fd(100)\n",
    "kura.lt(90)\n",
    "# kura.end_fill()"
   ]
  },
  {
   "cell_type": "code",
   "execution_count": 14,
   "metadata": {},
   "outputs": [],
   "source": [
    "kura.color('red')      # kita atur warna lintasan menjadi merah\n",
    "kura.fd(50)            # kita perintahkan kura maju 50 pixel, atau kura.forward()\n",
    "kura.rt(90)            # kita perintahkan kura ke arah kanan sebsar 90 drajat, atau kura.right()\n",
    "kura.fd(50)\n",
    "kura.lt(90)            # kita perintahkan kura ke arah kanan sebsar 90 drajat, atau kura.left()\n",
    "kura.fd(50)\n"
   ]
  },
  {
   "cell_type": "code",
   "execution_count": 7,
   "metadata": {},
   "outputs": [
    {
     "name": "stdout",
     "output_type": "stream",
     "text": [
      "1\n",
      "2\n",
      "3\n",
      "4\n",
      "5\n",
      "6\n",
      "7\n",
      "8\n",
      "9\n",
      "10\n",
      "11\n",
      "12\n",
      "13\n",
      "14\n",
      "15\n",
      "16\n",
      "17\n",
      "18\n",
      "19\n"
     ]
    }
   ],
   "source": [
    "kura.reset()\n",
    "for i in range(1,20):\n",
    "    kura.color('red')  # kita setting warna merah\n",
    "    kura.fd(5*i)       # kura maju sejauh 5*i pixel\n",
    "    kura.write(i)\n",
    "    kura.rt(90)        # kura ke kanan sebesar 90 derajat\n",
    "    kura.color('blue') # berubah warna menjadi biru\n",
    "    kura.fd(5*i)       # kura maju sejauh 5*i pixel\n",
    "    kura.lt(45)        # kura ke kiri sejauh 45 derajat\n",
    "    kura.speed(2)\n",
    "    print(i)\n"
   ]
  },
  {
   "cell_type": "code",
   "execution_count": 8,
   "metadata": {},
   "outputs": [],
   "source": [
    "kura.reset()\n",
    "for i in range(1,50):\n",
    "    kura.color('red')     \n",
    "    kura.fd(10+5*i)      \n",
    "    kura.lt(72)\n",
    "    kura.color('black')\n",
    "    kura.fd(10+5*i)\n",
    "    kura.lt(72)\n",
    "    kura.color('red')     \n",
    "    kura.fd(10+5*i)      \n",
    "    kura.lt(72)\n",
    "    kura.color('black')\n",
    "    kura.fd(10+5*i)\n",
    "    kura.lt(72)\n",
    "    kura.color('black')\n",
    "    kura.fd(10+5*i)\n",
    "    kura.lt(72)\n",
    "    kura.speed(10)\n",
    "    kura.lt(10)"
   ]
  },
  {
   "cell_type": "markdown",
   "metadata": {},
   "source": [
    "# Menggambar Fraktal dengan Python"
   ]
  },
  {
   "cell_type": "code",
   "execution_count": 5,
   "metadata": {},
   "outputs": [],
   "source": [
    "# from turtle import *\n",
    "import turtle\n",
    "kura = turtle.Turtle()\n",
    "def sierpinski(panjang, n):\n",
    "    if n==0 :\n",
    "        kura.begin_fill()\n",
    "        kura.fd(panjang)\n",
    "        kura.lt(120)\n",
    "        kura.fd(panjang)\n",
    "        kura.lt(120)\n",
    "        kura.fd(panjang)\n",
    "        kura.lt(120)\n",
    "        kura.end_fill()\n",
    "    else :\n",
    "        sierpinski(panjang/2, n-1)\n",
    "        kura.fd(panjang/2)\n",
    "        sierpinski(panjang/2, n-1)\n",
    "        kura.lt(120)\n",
    "        kura.fd(panjang/2)\n",
    "        kura.rt(120)\n",
    "        sierpinski(panjang/2, n-1)\n",
    "        kura.rt(120)\n",
    "        kura.fd(panjang/2)\n",
    "        kura.lt(120)\n",
    "        \n",
    "kura.speed(10)"
   ]
  },
  {
   "cell_type": "code",
   "execution_count": 7,
   "metadata": {},
   "outputs": [
    {
     "name": "stdout",
     "output_type": "stream",
     "text": [
      "Masukkan panjang: 100\n",
      "Masukkan nilai n: 3\n"
     ]
    }
   ],
   "source": [
    "panjang = int(input(\"Masukkan panjang: \"))\n",
    "n = int(input(\"Masukkan nilai n: \"))\n",
    "sierpinski(panjang, n)"
   ]
  },
  {
   "cell_type": "code",
   "execution_count": null,
   "metadata": {},
   "outputs": [],
   "source": []
  }
 ],
 "metadata": {
  "kernelspec": {
   "display_name": "Python 3",
   "language": "python",
   "name": "python3"
  },
  "language_info": {
   "codemirror_mode": {
    "name": "ipython",
    "version": 3
   },
   "file_extension": ".py",
   "mimetype": "text/x-python",
   "name": "python",
   "nbconvert_exporter": "python",
   "pygments_lexer": "ipython3",
   "version": "3.7.4"
  }
 },
 "nbformat": 4,
 "nbformat_minor": 2
}
