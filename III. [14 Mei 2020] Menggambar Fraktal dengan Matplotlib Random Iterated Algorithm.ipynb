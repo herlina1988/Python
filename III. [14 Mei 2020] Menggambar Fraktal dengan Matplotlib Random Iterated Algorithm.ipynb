{
 "cells": [
  {
   "cell_type": "markdown",
   "metadata": {},
   "source": [
    "# Matplotlib: Visualization with Python\n",
    "- Matplotlib is a comprehensive library for creating static, animated, and interactive visualizations in Python\n",
    "- Website https://matplotlib.org/"
   ]
  },
  {
   "cell_type": "markdown",
   "metadata": {},
   "source": [
    "# Fractal Plot: Random Iterated Algorithm\n",
    "The basic Process:\n",
    "- Choose an arbitrary $x_0\\in \\mathbb{R}^2$ as start point\n",
    "- we randomly choose a mapping $S_{i}$ in $\\{S_1,S_2,...,S_N\\}$ according to probability distribution $\\{p_1,p_2,...,p_N\\}$ and move to $x_1=S_i(x_0)$.\n",
    "- We then make another random choice of $S_j$ and move to $x_2=S_j(x_1)$.\n",
    "- This continues indefinitely, we obtain a sequence $\\{x_0,x_1,...\\}$\n",
    "- When $N_{max}$ is large enough, according to Lemma, $\\{x_n : n>=N_{max}\\}$ is indistinguishable from $K$.\n",
    "- In particular, we choose $N_{max} = 0$ if $x_0\\in K$. "
   ]
  },
  {
   "cell_type": "code",
   "execution_count": 1,
   "metadata": {},
   "outputs": [],
   "source": [
    "# Draw a Barnsley Fern 1 \n",
    "# Referensi Buku \"Doing math with Python\" (Amit Saha)\n",
    "\n",
    "import random # import modul random\n",
    "import matplotlib.pyplot as plt # import modul matplotlib.pyplot dan kita buat nama aliasnya \"plt\" \n",
    "\n",
    "def transformation_1(p): # definisikan transformasi ke-1 peluang 0.85\n",
    "    x = p[0]\n",
    "    y = p[1]\n",
    "    x1 = 0.85*x + 0.04*y        # ax+bx+e\n",
    "    y1 = -0.04*x + 0.85*y + 1.6 # cx+dx+e\n",
    "    return x1, y1 \n",
    "\n",
    "def transformation_2(p): # definisikan transformasi ke-2 peluang 0.07\n",
    "    x = p[0]\n",
    "    y = p[1]\n",
    "    x1 = 0.2*x - 0.26*y\n",
    "    y1 = 0.23*x + 0.22*y + 1.6\n",
    "    return x1, y1\n",
    "\n",
    "def transformation_3(p):  # definisikan transformasi ke-3 peluang 0.07\n",
    "    x = p[0]\n",
    "    y = p[1]\n",
    "    x1 = -0.15*x + 0.28*y\n",
    "    y1 = 0.26*x  + 0.24*y + 0.44\n",
    "    return x1, y1\n",
    "\n",
    "def transformation_4(p):  # definisikan transformasi ke-4 peluang 0.01\n",
    "    x = p[0]\n",
    "    y = p[1]\n",
    "    x1 = 0\n",
    "    y1 = 0.16*y\n",
    "    return x1, y1\n",
    "\n",
    "def get_index(probability):\n",
    "    r = random.random()\n",
    "    c_probability = 0\n",
    "    sum_probability = []\n",
    "    for p in probability:\n",
    "        c_probability += p\n",
    "        sum_probability.append(c_probability)\n",
    "    for item, sp in enumerate(sum_probability):\n",
    "        if r <= sp:  # mensyaratkan nilai random r harus lebih kecil atau sama dengan sum_probability[]\n",
    "            return item\n",
    "    return len(probability)-1\n",
    "\n",
    "def transform(p):\n",
    "    # List of transformation functions\n",
    "    transformations = [transformation_1, transformation_2,\n",
    "                           transformation_3, transformation_4]\n",
    "    probability = [0.85, 0.07, 0.07, 0.01]\n",
    "    # Pick a random transformation function and call it\n",
    "    tindex = get_index(probability)\n",
    "    t = transformations[tindex]\n",
    "    x, y = t(p)\n",
    "    return x, y\n",
    "\n",
    "def draw_fern(n):\n",
    "    # We start with (0, 0)\n",
    "    x = [0]\n",
    "    y = [0]\n",
    "    x1, y1 = 0, 0\n",
    "    for i in range(n):\n",
    "       x1, y1 = transform((x1, y1))\n",
    "       x.append(x1)\n",
    "       y.append(y1)\n",
    "    return x, y"
   ]
  },
  {
   "cell_type": "code",
   "execution_count": 2,
   "metadata": {},
   "outputs": [
    {
     "name": "stdout",
     "output_type": "stream",
     "text": [
      "Enter the number of points in the Fern: 100000\n"
     ]
    },
    {
     "data": {
      "image/png": "[encoded data removed]",
      "text/plain": [
       "<Figure size 432x288 with 1 Axes>"
      ]
     },
     "metadata": {
      "needs_background": "light"
     },
     "output_type": "display_data"
    }
   ],
   "source": [
    "n = int(input('Enter the number of points in the Fern: '))\n",
    "x, y = draw_fern(n)\n",
    "# Plot the points\n",
    "plt.plot(x, y, 'o')\n",
    "plt.title('Fern with {0} points'.format(n))\n",
    "plt.show()"
   ]
  },
  {
   "cell_type": "markdown",
   "metadata": {},
   "source": [
    "# Tugas\n",
    "\n",
    "Gambarkan fraktal dengan menginput informasi pada Tabel 1-3 berikut:\n",
    "![title](tugas.jpg)"
   ]
  },
  {
   "cell_type": "code",
   "execution_count": null,
   "metadata": {},
   "outputs": [],
   "source": []
  }
 ],
 "metadata": {
  "kernelspec": {
   "display_name": "Python 3",
   "language": "python",
   "name": "python3"
  },
  "language_info": {
   "codemirror_mode": {
    "name": "ipython",
    "version": 3
   },
   "file_extension": ".py",
   "mimetype": "text/x-python",
   "name": "python",
   "nbconvert_exporter": "python",
   "pygments_lexer": "ipython3",
   "version": "3.7.4"
  }
 },
 "nbformat": 4,
 "nbformat_minor": 2
}
