{
 "cells": [
  {
   "cell_type": "markdown",
   "metadata": {},
   "source": [
    "# Matplotlib: Visualization with Python\n",
    "- Matplotlib is a comprehensive library for creating static, animated, and interactive visualizations in Python\n",
    "- Website https://matplotlib.org/"
   ]
  },
  {
   "cell_type": "markdown",
   "metadata": {},
   "source": [
    "# Fractal Plot: Random Iterated Algorithm\n",
    "The basic Process:\n",
    "- Choose an arbitrary $x_0\\in \\mathbb{R}^2$ as start point\n",
    "- we randomly choose a mapping $S_{i}$ in $\\{S_1,S_2,...,S_N\\}$ according to probability distribution $\\{p_1,p_2,...,p_N\\}$ and move to $x_1=S_i(x_0)$.\n",
    "- We then make another random choice of $S_j$ and move to $x_2=S_j(x_1)$.\n",
    "- This continues indefinitely, we obtain a sequence $\\{x_0,x_1,...\\}$\n",
    "- When $N_{max}$ is large enough, according to Lemma, $\\{x_n : n>=N_max\\}$ is indistinguishable from $K$.\n",
    "- In particular, we choose $N_{max} = 0$ if $x_0\\in K$. "
   ]
  },
  {
   "cell_type": "code",
   "execution_count": 1,
   "metadata": {},
   "outputs": [],
   "source": [
    "# Draw a Barnsley Fern 1 \n",
    "# Referensi Buku \"Doing math with Python\" (Amit Saha)\n",
    "\n",
    "import random # import modul random\n",
    "import matplotlib.pyplot as plt # import modul matplotlib.pyplot dan kita buat nama aliasnya \"plt\" \n",
    "\n",
    "def transformation_1(p): # definisikan transformasi ke-1 peluang 0.85\n",
    "    x = p[0]\n",
    "    y = p[1]\n",
    "    x1 = 0.85*x + 0.04*y\n",
    "    y1 = -0.04*x + 0.85*y + 1.6\n",
    "    return x1, y1 # objek yang dihasilkan\n",
    "\n",
    "def transformation_2(p): # definisikan transformasi ke-2\n",
    "    x = p[0]\n",
    "    y = p[1]\n",
    "    x1 = 0.2*x - 0.26*y\n",
    "    y1 = 0.23*x + 0.22*y + 1.6\n",
    "    return x1, y1\n",
    "\n",
    "def transformation_3(p):\n",
    "    x = p[0]\n",
    "    y = p[1]\n",
    "    x1 = -0.15*x + 0.28*y\n",
    "    y1 = 0.26*x  + 0.24*y + 0.44\n",
    "    return x1, y1\n",
    "\n",
    "def transformation_4(p):\n",
    "    x = p[0]\n",
    "    y = p[1]\n",
    "    x1 = 0\n",
    "    y1 = 0.16*y\n",
    "    return x1, y1\n",
    "\n",
    "def get_index(probability):\n",
    "    r = random.random()\n",
    "    c_probability = 0\n",
    "    sum_probability = []\n",
    "    for p in probability:\n",
    "        c_probability += p\n",
    "        sum_probability.append(c_probability)\n",
    "    for item, sp in enumerate(sum_probability):\n",
    "        if r <= sp:\n",
    "            return item\n",
    "    return len(probability)-1\n",
    "\n",
    "def transform(p):\n",
    "    # List of transformation functions\n",
    "    transformations = [transformation_1, transformation_2,\n",
    "                           transformation_3, transformation_4]\n",
    "    probability = [0.85, 0.07, 0.07, 0.01]\n",
    "    # Pick a random transformation function and call it\n",
    "    tindex = get_index(probability)\n",
    "    t = transformations[tindex]\n",
    "    x, y = t(p)\n",
    "    return x, y\n",
    "\n",
    "def draw_fern(n):\n",
    "    # We start with (0, 0)\n",
    "    x = [0]\n",
    "    y = [0]\n",
    "    x1, y1 = 0, 0\n",
    "    for i in range(n):\n",
    "       x1, y1 = transform((x1, y1))\n",
    "       x.append(x1)\n",
    "       y.append(y1)\n",
    "    return x, y"
   ]
  },
  {
   "cell_type": "code",
   "execution_count": 5,
   "metadata": {},
   "outputs": [
    {
     "name": "stdout",
     "output_type": "stream",
     "text": [
      "Enter the number of points in the Fern: 100000\n"
     ]
    },
    {
     "data": {
      "image/png": "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\n",
      "text/plain": [
       "<Figure size 432x288 with 1 Axes>"
      ]
     },
     "metadata": {
      "needs_background": "light"
     },
     "output_type": "display_data"
    }
   ],
   "source": [
    "n = int(input('Enter the number of points in the Fern: '))\n",
    "x, y = draw_fern(n)\n",
    "# Plot the points\n",
    "plt.plot(x, y, '.')\n",
    "plt.title('Fern with {0} points'.format(n))\n",
    "plt.show()"
   ]
  },
  {
   "cell_type": "code",
   "execution_count": 15,
   "metadata": {},
   "outputs": [
    {
     "data": {
      "text/plain": [
       "3"
      ]
     },
     "execution_count": 15,
     "metadata": {},
     "output_type": "execute_result"
    }
   ],
   "source": [
    "L=[1,3,4]\n",
    "len(L)"
   ]
  },
  {
   "cell_type": "markdown",
   "metadata": {},
   "source": [
    "# Tugas\n",
    "\n",
    "Gambarkan fraktal dengan menginput informasi pada Tabel 1-3 berikut:\n",
    "![title](tugas.jpg)"
   ]
  },
 ],
 "metadata": {
  "kernelspec": {
   "display_name": "Python 3",
   "language": "python",
   "name": "python3"
  },
  "language_info": {
   "codemirror_mode": {
    "name": "ipython",
    "version": 3
   },
   "file_extension": ".py",
   "mimetype": "text/x-python",
   "name": "python",
   "nbconvert_exporter": "python",
   "pygments_lexer": "ipython3",
   "version": "3.7.4"
  }
 },
 "nbformat": 4,
 "nbformat_minor": 2
}
